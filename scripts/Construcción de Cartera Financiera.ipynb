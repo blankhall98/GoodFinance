{
 "cells": [
  {
   "cell_type": "markdown",
   "metadata": {},
   "source": [
    "# CONSTRUCCIÓN DE CARTERA FINANCIERA"
   ]
  },
  {
   "cell_type": "markdown",
   "metadata": {},
   "source": [
    "### Librerías"
   ]
  },
  {
   "cell_type": "code",
   "execution_count": 1,
   "metadata": {},
   "outputs": [],
   "source": [
    "import numpy as np\n",
    "import matplotlib.pyplot as plt\n",
    "import pandas as pd"
   ]
  },
  {
   "cell_type": "markdown",
   "metadata": {},
   "source": [
    "### Lectura de Base de Datos"
   ]
  },
  {
   "cell_type": "code",
   "execution_count": 2,
   "metadata": {},
   "outputs": [],
   "source": [
    "data_route = '../data/'"
   ]
  },
  {
   "cell_type": "code",
   "execution_count": 3,
   "metadata": {},
   "outputs": [],
   "source": [
    "expenses_filename = 'expenses.csv'\n",
    "incomes_filename = 'incomes.csv'"
   ]
  },
  {
   "cell_type": "code",
   "execution_count": 14,
   "metadata": {},
   "outputs": [],
   "source": [
    "expenses = pd.read_csv(data_route+expenses_filename)\n",
    "incomes = pd.read_csv(data_route+incomes_filename)"
   ]
  },
  {
   "cell_type": "code",
   "execution_count": 16,
   "metadata": {},
   "outputs": [
    {
     "data": {
      "text/html": [
       "<div>\n",
       "<style scoped>\n",
       "    .dataframe tbody tr th:only-of-type {\n",
       "        vertical-align: middle;\n",
       "    }\n",
       "\n",
       "    .dataframe tbody tr th {\n",
       "        vertical-align: top;\n",
       "    }\n",
       "\n",
       "    .dataframe thead th {\n",
       "        text-align: right;\n",
       "    }\n",
       "</style>\n",
       "<table border=\"1\" class=\"dataframe\">\n",
       "  <thead>\n",
       "    <tr style=\"text-align: right;\">\n",
       "      <th></th>\n",
       "      <th>DATE</th>\n",
       "      <th>AMOUNT</th>\n",
       "      <th>CATEGORY</th>\n",
       "      <th>THIRD-PARTY</th>\n",
       "      <th>DESCRIPTION</th>\n",
       "    </tr>\n",
       "  </thead>\n",
       "  <tbody>\n",
       "    <tr>\n",
       "      <th>0</th>\n",
       "      <td>29-09-2022</td>\n",
       "      <td>500</td>\n",
       "      <td>VARIABLE</td>\n",
       "      <td>zero2hero</td>\n",
       "      <td>Inscripción a curso de Python</td>\n",
       "    </tr>\n",
       "  </tbody>\n",
       "</table>\n",
       "</div>"
      ],
      "text/plain": [
       "         DATE  AMOUNT  CATEGORY THIRD-PARTY                    DESCRIPTION\n",
       "0  29-09-2022     500  VARIABLE   zero2hero  Inscripción a curso de Python"
      ]
     },
     "execution_count": 16,
     "metadata": {},
     "output_type": "execute_result"
    }
   ],
   "source": [
    "incomes"
   ]
  },
  {
   "cell_type": "code",
   "execution_count": 12,
   "metadata": {},
   "outputs": [
    {
     "data": {
      "text/plain": [
       "Index(['DATE', 'AMOUNT', 'CATEGORY', 'THIRD-PARTY', 'DESCRIPTION'], dtype='object')"
      ]
     },
     "execution_count": 12,
     "metadata": {},
     "output_type": "execute_result"
    }
   ],
   "source": [
    "expenses.columns"
   ]
  },
  {
   "cell_type": "code",
   "execution_count": 18,
   "metadata": {},
   "outputs": [
    {
     "data": {
      "text/plain": [
       "0    500\n",
       "Name: AMOUNT, dtype: int64"
      ]
     },
     "execution_count": 18,
     "metadata": {},
     "output_type": "execute_result"
    }
   ],
   "source": [
    "incomes['AMOUNT']"
   ]
  },
  {
   "cell_type": "code",
   "execution_count": 29,
   "metadata": {},
   "outputs": [
    {
     "data": {
      "text/plain": [
       "1100"
      ]
     },
     "execution_count": 29,
     "metadata": {},
     "output_type": "execute_result"
    }
   ],
   "source": [
    "incomes['AMOUNT'].sum()"
   ]
  },
  {
   "cell_type": "code",
   "execution_count": 21,
   "metadata": {},
   "outputs": [
    {
     "data": {
      "text/plain": [
       "'Inscripción a curso de Python'"
      ]
     },
     "execution_count": 21,
     "metadata": {},
     "output_type": "execute_result"
    }
   ],
   "source": [
    "incomes.loc[0]['DESCRIPTION']"
   ]
  },
  {
   "cell_type": "code",
   "execution_count": 26,
   "metadata": {},
   "outputs": [
    {
     "name": "stdout",
     "output_type": "stream",
     "text": [
      "2\n"
     ]
    }
   ],
   "source": [
    "n = len(incomes)\n",
    "print(n)"
   ]
  },
  {
   "cell_type": "code",
   "execution_count": 27,
   "metadata": {},
   "outputs": [],
   "source": [
    "incomes.loc[n] = ['29-09-2022',300,'VARIABLE','zero2hero','Curso Intensivo R']"
   ]
  },
  {
   "cell_type": "code",
   "execution_count": 28,
   "metadata": {},
   "outputs": [
    {
     "data": {
      "text/html": [
       "<div>\n",
       "<style scoped>\n",
       "    .dataframe tbody tr th:only-of-type {\n",
       "        vertical-align: middle;\n",
       "    }\n",
       "\n",
       "    .dataframe tbody tr th {\n",
       "        vertical-align: top;\n",
       "    }\n",
       "\n",
       "    .dataframe thead th {\n",
       "        text-align: right;\n",
       "    }\n",
       "</style>\n",
       "<table border=\"1\" class=\"dataframe\">\n",
       "  <thead>\n",
       "    <tr style=\"text-align: right;\">\n",
       "      <th></th>\n",
       "      <th>DATE</th>\n",
       "      <th>AMOUNT</th>\n",
       "      <th>CATEGORY</th>\n",
       "      <th>THIRD-PARTY</th>\n",
       "      <th>DESCRIPTION</th>\n",
       "    </tr>\n",
       "  </thead>\n",
       "  <tbody>\n",
       "    <tr>\n",
       "      <th>0</th>\n",
       "      <td>29-09-2022</td>\n",
       "      <td>500</td>\n",
       "      <td>VARIABLE</td>\n",
       "      <td>zero2hero</td>\n",
       "      <td>Inscripción a curso de Python</td>\n",
       "    </tr>\n",
       "    <tr>\n",
       "      <th>1</th>\n",
       "      <td>29-09-2022</td>\n",
       "      <td>300</td>\n",
       "      <td>VARIABLE</td>\n",
       "      <td>zero2hero</td>\n",
       "      <td>Curso Intensivo R</td>\n",
       "    </tr>\n",
       "    <tr>\n",
       "      <th>2</th>\n",
       "      <td>29-09-2022</td>\n",
       "      <td>300</td>\n",
       "      <td>VARIABLE</td>\n",
       "      <td>zero2hero</td>\n",
       "      <td>Curso Intensivo R</td>\n",
       "    </tr>\n",
       "  </tbody>\n",
       "</table>\n",
       "</div>"
      ],
      "text/plain": [
       "         DATE  AMOUNT  CATEGORY THIRD-PARTY                    DESCRIPTION\n",
       "0  29-09-2022     500  VARIABLE   zero2hero  Inscripción a curso de Python\n",
       "1  29-09-2022     300  VARIABLE   zero2hero              Curso Intensivo R\n",
       "2  29-09-2022     300  VARIABLE   zero2hero              Curso Intensivo R"
      ]
     },
     "execution_count": 28,
     "metadata": {},
     "output_type": "execute_result"
    }
   ],
   "source": [
    "incomes"
   ]
  },
  {
   "cell_type": "markdown",
   "metadata": {},
   "source": [
    "### Construcción de la Clase"
   ]
  },
  {
   "cell_type": "code",
   "execution_count": 77,
   "metadata": {},
   "outputs": [],
   "source": [
    "class FWallet:\n",
    "    \n",
    "    def __init__(self,inputs):\n",
    "        self.inputs = inputs\n",
    "        self.incomes = pd.read_csv(self.inputs['data_route']+self.inputs['incomes_filename'])\n",
    "        self.expenses = pd.read_csv(self.inputs['data_route']+self.inputs['expenses_filename'])\n",
    "    \n",
    "    ### ACTIONS TO PERFORM ###\n",
    "    \n",
    "    #Add income to database\n",
    "    def add_income(self):\n",
    "        date = input('date: ')\n",
    "        amount = input('amount: ')\n",
    "        category = input('category: ')\n",
    "        third_party = input('third party: ')\n",
    "        description = input('description: ')\n",
    "        \n",
    "        new_income = [date,amount,category,third_party,description]\n",
    "        \n",
    "        n = len(self.incomes)\n",
    "        self.incomes.loc[n] = new_income\n",
    "        \n",
    "        self.incomes.to_csv(self.inputs['data_route']+self.inputs['incomes_filename'],index=False)\n",
    "        \n",
    "    #Add expense to database\n",
    "    def add_expense(self):\n",
    "        date = input('date: ')\n",
    "        amount = input('amount: ')\n",
    "        category = input('category: ')\n",
    "        third_party = input('third party: ')\n",
    "        description = input('description: ')\n",
    "        \n",
    "        new_expense = [date,amount,category,third_party,description]\n",
    "        \n",
    "        n = len(self.expenses)\n",
    "        self.expenses.loc[n] = new_expense\n",
    "        \n",
    "        self.expenses.to_csv(self.inputs['data_route']+self.inputs['expenses_filename'],index=False)\n",
    "        \n",
    "    #Calculate the total income\n",
    "    def total_income(self):\n",
    "        total = self.incomes['AMOUNT'].sum()\n",
    "        return total\n",
    "    \n",
    "    #calculate total expense\n",
    "    def total_expense(self):\n",
    "        total = self.expenses['AMOUNT'].sum()\n",
    "        return total\n",
    "    \n",
    "    #calculate balance = income - expense\n",
    "    def balance(self):\n",
    "        balance = self.total_income() - self.total_expense()\n",
    "        return balance\n",
    "    \n",
    "    #create financial report using the functions above\n",
    "    def financial_report(self):\n",
    "        \n",
    "        print('\\n'+'Financial Report'+'\\n')\n",
    "        print(f'Total Income: ${self.total_income()}')\n",
    "        print(f'Total Expense: ${self.total_expense()}')\n",
    "        print(f'Balance: ${self.balance()}')\n",
    "        \n",
    "        if self.balance() > 0:\n",
    "            print('Dont forget to save some of your left-off money! great job!')\n",
    "        else:\n",
    "            print('Be responsible with your finance, and find a low rate loan!')"
   ]
  },
  {
   "cell_type": "code",
   "execution_count": 78,
   "metadata": {},
   "outputs": [],
   "source": [
    "inputs = {\n",
    "    'data_route' : '../data/',\n",
    "    'expenses_filename' : 'expenses.csv',\n",
    "    'incomes_filename' : 'incomes.csv'\n",
    "}"
   ]
  },
  {
   "cell_type": "code",
   "execution_count": 79,
   "metadata": {},
   "outputs": [],
   "source": [
    "cartera = FWallet(inputs)"
   ]
  },
  {
   "cell_type": "code",
   "execution_count": 80,
   "metadata": {},
   "outputs": [
    {
     "name": "stdout",
     "output_type": "stream",
     "text": [
      "\n",
      "Financial Report\n",
      "\n",
      "Total Income: $1000\n",
      "Total Expense: $200\n",
      "Balance: $800\n",
      "Dont forget to save some of your left-off money! great job!\n"
     ]
    }
   ],
   "source": [
    "cartera.financial_report()"
   ]
  },
  {
   "cell_type": "code",
   "execution_count": 59,
   "metadata": {},
   "outputs": [
    {
     "data": {
      "text/html": [
       "<div>\n",
       "<style scoped>\n",
       "    .dataframe tbody tr th:only-of-type {\n",
       "        vertical-align: middle;\n",
       "    }\n",
       "\n",
       "    .dataframe tbody tr th {\n",
       "        vertical-align: top;\n",
       "    }\n",
       "\n",
       "    .dataframe thead th {\n",
       "        text-align: right;\n",
       "    }\n",
       "</style>\n",
       "<table border=\"1\" class=\"dataframe\">\n",
       "  <thead>\n",
       "    <tr style=\"text-align: right;\">\n",
       "      <th></th>\n",
       "      <th>DATE</th>\n",
       "      <th>AMOUNT</th>\n",
       "      <th>CATEGORY</th>\n",
       "      <th>THIRD-PARTY</th>\n",
       "      <th>DESCRIPTION</th>\n",
       "    </tr>\n",
       "  </thead>\n",
       "  <tbody>\n",
       "    <tr>\n",
       "      <th>0</th>\n",
       "      <td>29-09-2022</td>\n",
       "      <td>200</td>\n",
       "      <td>VARIABLE</td>\n",
       "      <td>oxxo</td>\n",
       "      <td>chelas</td>\n",
       "    </tr>\n",
       "  </tbody>\n",
       "</table>\n",
       "</div>"
      ],
      "text/plain": [
       "         DATE AMOUNT  CATEGORY THIRD-PARTY DESCRIPTION\n",
       "0  29-09-2022    200  VARIABLE        oxxo      chelas"
      ]
     },
     "execution_count": 59,
     "metadata": {},
     "output_type": "execute_result"
    }
   ],
   "source": [
    "cartera.expenses"
   ]
  }
 ],
 "metadata": {
  "kernelspec": {
   "display_name": "Python 3",
   "language": "python",
   "name": "python3"
  },
  "language_info": {
   "codemirror_mode": {
    "name": "ipython",
    "version": 3
   },
   "file_extension": ".py",
   "mimetype": "text/x-python",
   "name": "python",
   "nbconvert_exporter": "python",
   "pygments_lexer": "ipython3",
   "version": "3.8.5"
  }
 },
 "nbformat": 4,
 "nbformat_minor": 4
}
